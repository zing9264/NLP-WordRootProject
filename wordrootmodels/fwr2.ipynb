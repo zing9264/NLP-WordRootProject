{
 "metadata": {
  "language_info": {
   "codemirror_mode": {
    "name": "ipython",
    "version": 3
   },
   "file_extension": ".py",
   "mimetype": "text/x-python",
   "name": "python",
   "nbconvert_exporter": "python",
   "pygments_lexer": "ipython3",
   "version": "3.8.1-final"
  },
  "orig_nbformat": 2,
  "kernelspec": {
   "name": "python3",
   "display_name": "Python 3.8.1 64-bit ('py38': conda)",
   "metadata": {
    "interpreter": {
     "hash": "37c45363effc1ec69a1547edd7ddbc58fe91efcb43fdabe8bd1fd3e82eaa1a90"
    }
   }
  }
 },
 "nbformat": 4,
 "nbformat_minor": 2,
 "cells": [
  {
   "cell_type": "code",
   "execution_count": 4,
   "metadata": {},
   "outputs": [],
   "source": [
    "import json\n",
    "from collections import Counter\n",
    "prefix_freq=Counter()\n",
    "affix_freq=Counter()    \n",
    "suffix_freq=Counter()\n",
    "\n",
    "with open('etym.entries.v1.format.json' , 'r') as reader:\n",
    "    jf = json.loads(reader.read())\n",
    "\n",
    "for i in range(jf['count']):\n",
    "    for w in jf['results'][i]['foreigns']:\n",
    "        if len(w)>1:\n",
    "            if w[0]!='*' :\n",
    "                    if w[0]=='-' and w[-1]!='-' :\n",
    "                        suffix_freq[w[1:]]+= 1\n",
    "                    elif w[0]!='-' and w[-1]=='-' :\n",
    "                        prefix_freq[w[:-1]] += 1\n",
    "                    elif(w[0]!='-' and w[-1]!='-'):\n",
    "                        affix_freq[w] += 1\n",
    "\n",
    "for i in range(jf['count']):\n",
    "    for w in jf['results'][i]['cross-references']:\n",
    "        if '*' not in w :\n",
    "            if len(w)>1:\n",
    "                if w[0]=='-' and w[-1]!='-' :\n",
    "                    suffix_freq[w[1:]]+= 1\n",
    "                elif w[-1]=='-' and w[0]!='-' :\n",
    "                    prefix_freq[w[:-1]] += 1\n",
    "                elif(w[0]!='-' and w[-1]!='-'):\n",
    "                    affix_freq[w] += 1"
   ]
  },
  {
   "cell_type": "code",
   "execution_count": 5,
   "metadata": {},
   "outputs": [
    {
     "output_type": "stream",
     "name": "stdout",
     "text": [
      "('i', '', 'nternational')\n('i', 'n', 'ternational')\n('i', 'nt', 'ernational')\n('i', 'nte', 'rnational')\n('i', 'nter', 'national')\n('i', 'ntern', 'ational')\n('i', 'nterna', 'tional')\n('i', 'nternat', 'ional')\n('i', 'nternati', 'onal')\n('i', 'nternatio', 'nal')\n('i', 'nternation', 'al')\n('i', 'nternationa', 'l')\n('in', '', 'ternational')\n('in', 't', 'ernational')\n('in', 'te', 'rnational')\n('in', 'ter', 'national')\n('in', 'tern', 'ational')\n('in', 'terna', 'tional')\n('in', 'ternat', 'ional')\n('in', 'ternati', 'onal')\n('in', 'ternatio', 'nal')\n('in', 'ternation', 'al')\n('in', 'ternationa', 'l')\n('int', '', 'ernational')\n('int', 'e', 'rnational')\n('int', 'er', 'national')\n('int', 'ern', 'ational')\n('int', 'erna', 'tional')\n('int', 'ernat', 'ional')\n('int', 'ernati', 'onal')\n('int', 'ernatio', 'nal')\n('int', 'ernation', 'al')\n('int', 'ernationa', 'l')\n('inte', '', 'rnational')\n('inte', 'r', 'national')\n('inte', 'rn', 'ational')\n('inte', 'rna', 'tional')\n('inte', 'rnat', 'ional')\n('inte', 'rnati', 'onal')\n('inte', 'rnatio', 'nal')\n('inte', 'rnation', 'al')\n('inte', 'rnationa', 'l')\n('inter', '', 'national')\n('inter', 'n', 'ational')\n('inter', 'na', 'tional')\n('inter', 'nat', 'ional')\n('inter', 'nati', 'onal')\n('inter', 'natio', 'nal')\n('inter', 'nation', 'al')\n('inter', 'nationa', 'l')\n('intern', '', 'ational')\n('intern', 'a', 'tional')\n('intern', 'at', 'ional')\n('intern', 'ati', 'onal')\n('intern', 'atio', 'nal')\n('intern', 'ation', 'al')\n('intern', 'ationa', 'l')\n('interna', '', 'tional')\n('interna', 't', 'ional')\n('interna', 'ti', 'onal')\n('interna', 'tio', 'nal')\n('interna', 'tion', 'al')\n('interna', 'tiona', 'l')\n('internat', '', 'ional')\n('internat', 'i', 'onal')\n('internat', 'io', 'nal')\n('internat', 'ion', 'al')\n('internat', 'iona', 'l')\n('internati', '', 'onal')\n('internati', 'o', 'nal')\n('internati', 'on', 'al')\n('internati', 'ona', 'l')\n('internatio', '', 'nal')\n('internatio', 'n', 'al')\n('internatio', 'na', 'l')\n('internation', '', 'al')\n('internation', 'a', 'l')\n('internationa', '', 'l')\n"
     ]
    }
   ],
   "source": [
    "def segment(word):\n",
    "\t# TODO: split a word into pieces\n",
    "    spilt_list=[]\n",
    "    for i in range(len(word)):\n",
    "        for j in range(len(word)):\n",
    "            if j>=i and i >0:\n",
    "                spilt_list.append((word[:i],word[i:j],word[j:]))\n",
    "    \n",
    "    return spilt_list\n",
    "word_list=segment('international')\n",
    "for i in word_list:\n",
    "    print(i)"
   ]
  },
  {
   "cell_type": "code",
   "execution_count": 7,
   "metadata": {},
   "outputs": [],
   "source": [
    "import math\n",
    "\n",
    "\n",
    "def Calculation(spilt_list):\n",
    "    new_list=[]\n",
    "    prefix_sum=sum(prefix_freq.values())\n",
    "    affix_sum=sum(affix_freq.values())\n",
    "    suffix_sum=sum(suffix_freq.values())\n",
    "    for item in spilt_list:\n",
    "        pre_text=item[0]\n",
    "        aff_text=item[1]\n",
    "        suf_text=item[2]\n",
    "        p1=prefix_freq[pre_text]/prefix_sum\n",
    "        p2=affix_freq[aff_text]/affix_sum\n",
    "        p3=suffix_freq[suf_text]/suffix_sum\n",
    "        if p1==0:\n",
    "            p1=1/(prefix_sum*10**len(pre_text))\n",
    "        if p2==0:\n",
    "            p2=1/(affix_sum*10**len(aff_text))\n",
    "        if p3==0:\n",
    "            p3=1/(suffix_sum*10**len(suf_text))\n",
    "\n",
    "        if(aff_text)=='':\n",
    "            ans=math.log(p1)+math.log(p3)\n",
    "        else:\n",
    "            ans=math.log(p1)+math.log(p2)+math.log(p3)\n",
    "        new_list.append((item,round(ans,3)))\n",
    "    return new_list\n",
    "\n",
    "\n"
   ]
  },
  {
   "cell_type": "code",
   "execution_count": 9,
   "metadata": {},
   "outputs": [
    {
     "output_type": "execute_result",
     "data": {
      "text/plain": [
       "[(('inter', 'nation', 'al'), -18.337),\n",
       " (('inter', '', 'national'), -32.203),\n",
       " (('inter', 'natio', 'nal'), -32.952),\n",
       " (('inter', 'nati', 'onal'), -35.255),\n",
       " (('in', '', 'ternational'), -37.053),\n",
       " (('inter', 'na', 'tional'), -37.462),\n",
       " (('inter', 'nat', 'ional'), -37.557),\n",
       " (('in', 'terna', 'tional'), -37.803),\n",
       " (('internation', '', 'al'), -37.872),\n",
       " (('in', 'ternation', 'al'), -38.613),\n",
       " (('internat', 'ion', 'al'), -40.924),\n",
       " (('internati', 'on', 'al'), -41.281),\n",
       " (('in', 'ter', 'national'), -41.309),\n",
       " (('inter', 'nationa', 'l'), -42.162),\n",
       " (('in', 'te', 'rnational'), -43.101),\n",
       " (('inter', 'n', 'ational'), -44.465),\n",
       " (('i', '', 'nternational'), -44.886),\n",
       " (('internationa', '', 'l'), -46.273),\n",
       " (('i', 'nternation', 'al'), -46.446),\n",
       " (('in', 'ternationa', 'l'), -47.013),\n",
       " (('int', '', 'ernational'), -48.575),\n",
       " (('inte', '', 'rnational'), -48.575),\n",
       " (('intern', '', 'ational'), -48.575),\n",
       " (('interna', '', 'tional'), -48.575),\n",
       " (('internat', '', 'ional'), -48.575),\n",
       " (('internati', '', 'onal'), -48.575),\n",
       " (('internatio', '', 'nal'), -48.575),\n",
       " (('in', 't', 'ernational'), -49.316),\n",
       " (('in', 'tern', 'ational'), -49.316),\n",
       " (('in', 'ternat', 'ional'), -49.316),\n",
       " (('in', 'ternati', 'onal'), -49.316),\n",
       " (('in', 'ternatio', 'nal'), -49.316),\n",
       " (('int', 'ernation', 'al'), -50.134),\n",
       " (('inte', 'rnation', 'al'), -50.134),\n",
       " (('intern', 'ation', 'al'), -50.134),\n",
       " (('interna', 'tion', 'al'), -50.134),\n",
       " (('internatio', 'n', 'al'), -50.134),\n",
       " (('internatio', 'na', 'l'), -51.532),\n",
       " (('int', 'ern', 'ational'), -53.237),\n",
       " (('intern', 'at', 'ional'), -53.237),\n",
       " (('int', 'er', 'national'), -54.623),\n",
       " (('interna', 'ti', 'onal'), -54.623),\n",
       " (('i', 'nternationa', 'l'), -54.846),\n",
       " (('i', 'n', 'ternational'), -57.149),\n",
       " (('i', 'nt', 'ernational'), -57.149),\n",
       " (('i', 'nte', 'rnational'), -57.149),\n",
       " (('i', 'nter', 'national'), -57.149),\n",
       " (('i', 'ntern', 'ational'), -57.149),\n",
       " (('i', 'nterna', 'tional'), -57.149),\n",
       " (('i', 'nternat', 'ional'), -57.149),\n",
       " (('i', 'nternati', 'onal'), -57.149),\n",
       " (('i', 'nternatio', 'nal'), -57.149),\n",
       " (('int', 'ernationa', 'l'), -58.535),\n",
       " (('inte', 'rnationa', 'l'), -58.535),\n",
       " (('intern', 'ationa', 'l'), -58.535),\n",
       " (('interna', 'tiona', 'l'), -58.535),\n",
       " (('internat', 'iona', 'l'), -58.535),\n",
       " (('internati', 'ona', 'l'), -58.535),\n",
       " (('internation', 'a', 'l'), -58.535),\n",
       " (('int', 'e', 'rnational'), -60.838),\n",
       " (('int', 'erna', 'tional'), -60.838),\n",
       " (('int', 'ernat', 'ional'), -60.838),\n",
       " (('int', 'ernati', 'onal'), -60.838),\n",
       " (('int', 'ernatio', 'nal'), -60.838),\n",
       " (('inte', 'r', 'national'), -60.838),\n",
       " (('inte', 'rn', 'ational'), -60.838),\n",
       " (('inte', 'rna', 'tional'), -60.838),\n",
       " (('inte', 'rnat', 'ional'), -60.838),\n",
       " (('inte', 'rnati', 'onal'), -60.838),\n",
       " (('inte', 'rnatio', 'nal'), -60.838),\n",
       " (('intern', 'a', 'tional'), -60.838),\n",
       " (('intern', 'ati', 'onal'), -60.838),\n",
       " (('intern', 'atio', 'nal'), -60.838),\n",
       " (('interna', 't', 'ional'), -60.838),\n",
       " (('interna', 'tio', 'nal'), -60.838),\n",
       " (('internat', 'i', 'onal'), -60.838),\n",
       " (('internat', 'io', 'nal'), -60.838),\n",
       " (('internati', 'o', 'nal'), -60.838)]"
      ]
     },
     "metadata": {},
     "execution_count": 9
    }
   ],
   "source": [
    "ansList=Calculation(word_list)\n",
    "ansList.sort(key=lambda tup: tup[1] , reverse=True)\n",
    "ansList\n",
    "\n"
   ]
  },
  {
   "cell_type": "code",
   "execution_count": 81,
   "metadata": {},
   "outputs": [
    {
     "output_type": "execute_result",
     "data": {
      "text/plain": [
       "[(('scholar', '', 'ship'), -30.649),\n",
       " (('sch', 'olar', 'ship'), -34.394),\n",
       " (('sch', '', 'olarship'), -35.453),\n",
       " (('scho', 'lar', 'ship'), -36.004),\n",
       " (('schol', 'ar', 'ship'), -36.109),\n",
       " (('sc', 'holar', 'ship'), -36.36),\n",
       " (('sc', '', 'holarship'), -37.419),\n",
       " (('s', 'cholar', 'ship'), -38.412),\n",
       " (('s', '', 'cholarship'), -39.47),\n",
       " (('sc', 'hola', 'rship'), -40.471),\n",
       " (('sc', 'hol', 'arship'), -40.828),\n",
       " (('s', 'chol', 'arship'), -41.829),\n",
       " (('schola', 'r', 'ship'), -42.911),\n",
       " (('scho', '', 'larship'), -43.97),\n",
       " (('schol', '', 'arship'), -43.97),\n",
       " (('schola', '', 'rship'), -43.97),\n",
       " (('scholars', '', 'hip'), -43.97),\n",
       " (('scholarsh', '', 'ip'), -43.97),\n",
       " (('scholarshi', '', 'p'), -43.97),\n",
       " (('sc', 'ho', 'larship'), -43.978),\n",
       " (('s', 'cho', 'larship'), -44.132),\n",
       " (('s', 'ch', 'olarship'), -46.434),\n",
       " (('schol', 'ars', 'hip'), -47.022),\n",
       " (('sch', 'o', 'larship'), -47.715),\n",
       " (('sch', 'ol', 'arship'), -47.715),\n",
       " (('sch', 'ola', 'rship'), -47.715),\n",
       " (('sch', 'olars', 'hip'), -47.715),\n",
       " (('sch', 'olarsh', 'ip'), -47.715),\n",
       " (('sch', 'olarshi', 'p'), -47.715),\n",
       " (('scholar', 'shi', 'p'), -48.226),\n",
       " (('scho', 'la', 'rship'), -49.43),\n",
       " (('sc', 'h', 'olarship'), -49.681),\n",
       " (('sc', 'holars', 'hip'), -49.681),\n",
       " (('sc', 'holarsh', 'ip'), -49.681),\n",
       " (('sc', 'holarshi', 'p'), -49.681),\n",
       " (('scholars', 'hi', 'p'), -50.529),\n",
       " (('scholar', 'sh', 'ip'), -51.627),\n",
       " (('s', 'c', 'holarship'), -51.733),\n",
       " (('s', 'chola', 'rship'), -51.733),\n",
       " (('s', 'cholars', 'hip'), -51.733),\n",
       " (('s', 'cholarsh', 'ip'), -51.733),\n",
       " (('s', 'cholarshi', 'p'), -51.733),\n",
       " (('scho', 'l', 'arship'), -56.233),\n",
       " (('scho', 'lars', 'hip'), -56.233),\n",
       " (('scho', 'larsh', 'ip'), -56.233),\n",
       " (('scho', 'larshi', 'p'), -56.233),\n",
       " (('schol', 'a', 'rship'), -56.233),\n",
       " (('schol', 'arsh', 'ip'), -56.233),\n",
       " (('schol', 'arshi', 'p'), -56.233),\n",
       " (('schola', 'rs', 'hip'), -56.233),\n",
       " (('schola', 'rsh', 'ip'), -56.233),\n",
       " (('schola', 'rshi', 'p'), -56.233),\n",
       " (('scholar', 's', 'hip'), -56.233),\n",
       " (('scholars', 'h', 'ip'), -56.233),\n",
       " (('scholarsh', 'i', 'p'), -56.233)]"
      ]
     },
     "metadata": {},
     "execution_count": 81
    }
   ],
   "source": [
    "scholarship=segment('scholarship')\n",
    "\n",
    "ansList=Calculation(scholarship)\n",
    "ansList.sort(key=lambda tup: tup[1] , reverse=True)\n",
    "ansList\n",
    "\n",
    "\n",
    "\n"
   ]
  },
  {
   "cell_type": "code",
   "execution_count": 80,
   "metadata": {},
   "outputs": [
    {
     "output_type": "execute_result",
     "data": {
      "text/plain": [
       "[(('uni', 'vers', 'ity'), -21.333),\n",
       " (('univers', '', 'ity'), -29.283),\n",
       " (('un', 'ivers', 'ity'), -30.305),\n",
       " (('un', '', 'iversity'), -30.426),\n",
       " (('uni', '', 'versity'), -31.764),\n",
       " (('universit', '', 'y'), -32.899),\n",
       " (('un', 'iversit', 'y'), -33.92),\n",
       " (('universi', '', 'ty'), -34.423),\n",
       " (('uni', 'ver', 'sity'), -34.816),\n",
       " (('uni', 'versit', 'y'), -35.258),\n",
       " (('un', 'iversi', 'ty'), -35.445),\n",
       " (('univer', 'sit', 'y'), -35.856),\n",
       " (('uni', 'versi', 'ty'), -36.782),\n",
       " (('univers', 'it', 'y'), -37.917),\n",
       " (('u', 'nivers', 'ity'), -38.55),\n",
       " (('u', '', 'niversity'), -38.672),\n",
       " (('uni', 've', 'rsity'), -39.421),\n",
       " (('univer', 'si', 'ty'), -39.683),\n",
       " (('univ', 'ers', 'ity'), -41.546),\n",
       " (('unive', 'rs', 'ity'), -41.546),\n",
       " (('univer', 's', 'ity'), -41.546),\n",
       " (('univ', '', 'ersity'), -41.668),\n",
       " (('unive', '', 'rsity'), -41.668),\n",
       " (('univer', '', 'sity'), -41.668),\n",
       " (('u', 'niversit', 'y'), -42.165),\n",
       " (('un', 'i', 'versity'), -42.689),\n",
       " (('un', 'iv', 'ersity'), -42.689),\n",
       " (('un', 'ive', 'rsity'), -42.689),\n",
       " (('un', 'iver', 'sity'), -42.689),\n",
       " (('u', 'niversi', 'ty'), -43.69),\n",
       " (('uni', 'v', 'ersity'), -44.026),\n",
       " (('u', 'ni', 'versity'), -44.132),\n",
       " (('univ', 'ersit', 'y'), -45.161),\n",
       " (('unive', 'rsit', 'y'), -45.161),\n",
       " (('universi', 't', 'y'), -45.161),\n",
       " (('univ', 'ersi', 'ty'), -46.686),\n",
       " (('unive', 'rsi', 'ty'), -46.686),\n",
       " (('univers', 'i', 'ty'), -46.686),\n",
       " (('univ', 'er', 'sity'), -47.715),\n",
       " (('u', 'n', 'iversity'), -50.934),\n",
       " (('u', 'niv', 'ersity'), -50.934),\n",
       " (('u', 'nive', 'rsity'), -50.934),\n",
       " (('u', 'niver', 'sity'), -50.934),\n",
       " (('univ', 'e', 'rsity'), -53.93),\n",
       " (('unive', 'r', 'sity'), -53.93)]"
      ]
     },
     "metadata": {},
     "execution_count": 80
    }
   ],
   "source": [
    "university=segment('university')\n",
    "\n",
    "ansList=Calculation(university)\n",
    "ansList.sort(key=lambda tup: tup[1] , reverse=True)\n",
    "ansList\n"
   ]
  },
  {
   "cell_type": "code",
   "execution_count": 79,
   "metadata": {},
   "outputs": [
    {
     "output_type": "execute_result",
     "data": {
      "text/plain": [
       "[(('educat', '', 'ion'), -16.003),\n",
       " (('e', 'duc', 'ation'), -23.011),\n",
       " (('educ', '', 'ation'), -23.647),\n",
       " (('e', 'ducat', 'ion'), -24.576),\n",
       " (('educat', 'i', 'on'), -29.949),\n",
       " (('educa', '', 'tion'), -30.155),\n",
       " (('ed', 'uc', 'ation'), -31.305),\n",
       " (('educati', '', 'on'), -31.502),\n",
       " (('edu', 'cat', 'ion'), -31.676),\n",
       " (('educat', 'io', 'n'), -32.737),\n",
       " (('e', '', 'ducation'), -33.373),\n",
       " (('educatio', '', 'n'), -34.29),\n",
       " (('educ', 'at', 'ion'), -34.48),\n",
       " (('ed', '', 'ucation'), -34.76),\n",
       " (('edu', 'c', 'ation'), -35.91),\n",
       " (('e', 'duca', 'tion'), -36.426),\n",
       " (('ed', 'ucat', 'ion'), -37.475),\n",
       " (('educa', 'ti', 'on'), -37.549),\n",
       " (('e', 'ducati', 'on'), -37.773),\n",
       " (('ed', 'uca', 'tion'), -37.812),\n",
       " (('ed', 'ucati', 'on'), -39.159),\n",
       " (('edu', '', 'cation'), -39.365),\n",
       " (('e', 'du', 'cation'), -39.644),\n",
       " (('e', 'ducatio', 'n'), -40.561),\n",
       " (('ed', 'ucatio', 'n'), -41.947),\n",
       " (('educa', 't', 'ion'), -42.081),\n",
       " (('edu', 'ca', 'tion'), -42.417),\n",
       " (('educ', 'a', 'tion'), -42.417),\n",
       " (('edu', 'cati', 'on'), -43.764),\n",
       " (('educ', 'ati', 'on'), -43.764),\n",
       " (('e', 'd', 'ucation'), -45.636),\n",
       " (('edu', 'catio', 'n'), -46.552),\n",
       " (('educ', 'atio', 'n'), -46.552),\n",
       " (('educa', 'tio', 'n'), -46.552),\n",
       " (('educati', 'o', 'n'), -46.552),\n",
       " (('ed', 'u', 'cation'), -47.022)]"
      ]
     },
     "metadata": {},
     "execution_count": 79
    }
   ],
   "source": [
    "education=segment('education')\n",
    "\n",
    "ansList=Calculation(education)\n",
    "ansList.sort(key=lambda tup: tup[1] , reverse=True)\n",
    "ansList"
   ]
  },
  {
   "cell_type": "code",
   "execution_count": 78,
   "metadata": {},
   "outputs": [
    {
     "output_type": "execute_result",
     "data": {
      "text/plain": [
       "[(('pro', '', 'gramme'), -13.7),\n",
       " (('pro', 'gramm', 'e'), -23.129),\n",
       " (('pro', 'gram', 'me'), -24.171),\n",
       " (('p', 'ro', 'gramme'), -28.132),\n",
       " (('pro', 'gra', 'mme'), -32.87),\n",
       " (('pr', 'o', 'gramme'), -33.207),\n",
       " (('programm', '', 'e'), -34.229),\n",
       " (('p', '', 'rogramme'), -34.29),\n",
       " (('pr', '', 'ogramme'), -34.76),\n",
       " (('program', '', 'me'), -34.76),\n",
       " (('prog', 'ramm', 'e'), -37.281),\n",
       " (('prog', 'ram', 'me'), -38.035),\n",
       " (('p', 'rog', 'ramme'), -38.951),\n",
       " (('prog', '', 'ramme'), -39.365),\n",
       " (('progr', '', 'amme'), -39.365),\n",
       " (('progra', '', 'mme'), -39.365),\n",
       " (('pro', 'g', 'ramme'), -39.778),\n",
       " (('pro', 'gr', 'amme'), -39.778),\n",
       " (('progr', 'am', 'me'), -40.625),\n",
       " (('p', 'rogramm', 'e'), -41.416),\n",
       " (('pr', 'ogramm', 'e'), -41.886),\n",
       " (('p', 'rogram', 'me'), -41.947),\n",
       " (('pr', 'og', 'ramme'), -42.417),\n",
       " (('pr', 'ogram', 'me'), -42.417),\n",
       " (('prog', 'ra', 'mme'), -45.924),\n",
       " (('progr', 'amm', 'e'), -46.492),\n",
       " (('progra', 'mm', 'e'), -46.492),\n",
       " (('program', 'm', 'e'), -46.492),\n",
       " (('p', 'r', 'ogramme'), -46.552),\n",
       " (('p', 'rogr', 'amme'), -46.552),\n",
       " (('p', 'rogra', 'mme'), -46.552),\n",
       " (('pr', 'ogr', 'amme'), -47.022),\n",
       " (('pr', 'ogra', 'mme'), -47.022),\n",
       " (('progra', 'm', 'me'), -47.022),\n",
       " (('prog', 'r', 'amme'), -51.627),\n",
       " (('progr', 'a', 'mme'), -51.627)]"
      ]
     },
     "metadata": {},
     "execution_count": 78
    }
   ],
   "source": [
    "programme=segment('programme')\n",
    "\n",
    "ansList=Calculation(programme)\n",
    "ansList.sort(key=lambda tup: tup[1] , reverse=True)\n",
    "ansList"
   ]
  },
  {
   "cell_type": "code",
   "execution_count": 82,
   "metadata": {},
   "outputs": [
    {
     "output_type": "execute_result",
     "data": {
      "text/plain": [
       "[('com', 352),\n",
       " ('ex', 267),\n",
       " ('ad', 265),\n",
       " ('de', 189),\n",
       " ('man', 185),\n",
       " ('facere', 162),\n",
       " ('up', 150),\n",
       " ('in', 132),\n",
       " ('pro', 119),\n",
       " ('out', 114),\n",
       " ('per', 113),\n",
       " ('head', 96),\n",
       " ('back', 93),\n",
       " ('sub', 84),\n",
       " ('ab', 83)]"
      ]
     },
     "metadata": {},
     "execution_count": 82
    }
   ],
   "source": [
    "affix_freq.most_common(15)"
   ]
  },
  {
   "cell_type": "code",
   "execution_count": null,
   "metadata": {},
   "outputs": [],
   "source": []
  }
 ]
}